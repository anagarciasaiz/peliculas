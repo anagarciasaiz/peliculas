{
  "nbformat": 4,
  "nbformat_minor": 0,
  "metadata": {
    "colab": {
      "provenance": [],
      "authorship_tag": "ABX9TyMrylgjS8WmRpMBdnS8FgHb",
      "include_colab_link": true
    },
    "kernelspec": {
      "name": "python3",
      "display_name": "Python 3"
    },
    "language_info": {
      "name": "python"
    }
  },
  "cells": [
    {
      "cell_type": "markdown",
      "metadata": {
        "id": "view-in-github",
        "colab_type": "text"
      },
      "source": [
        "<a href=\"https://colab.research.google.com/github/anagarciasaiz/peliculas/blob/main/peliculitas.ipynb\" target=\"_parent\"><img src=\"https://colab.research.google.com/assets/colab-badge.svg\" alt=\"Open In Colab\"/></a>"
      ]
    },
    {
      "cell_type": "code",
      "execution_count": 85,
      "metadata": {
        "id": "xyBwA-WPhan3"
      },
      "outputs": [],
      "source": [
        "import pandas as pd\n",
        "import matplotlib.pyplot as plt\n",
        "from math import floor, ceil"
      ]
    },
    {
      "cell_type": "code",
      "source": [
        "datos = {\n",
        "    \"Opinion\":[5,4,3,2,1,0],\n",
        "    \"Cantidad de Votantes\":[42,96,132,124,88,58]\n",
        "}"
      ],
      "metadata": {
        "id": "0QWbGkw1jzQV"
      },
      "execution_count": 47,
      "outputs": []
    },
    {
      "cell_type": "code",
      "source": [
        "df = pd.DataFrame(datos)"
      ],
      "metadata": {
        "id": "wA8B7V0Wj4oa"
      },
      "execution_count": 48,
      "outputs": []
    },
    {
      "cell_type": "code",
      "source": [
        "print(df)"
      ],
      "metadata": {
        "colab": {
          "base_uri": "https://localhost:8080/"
        },
        "id": "JT6m_uq5kCI4",
        "outputId": "e25609ff-d576-460e-b746-68a9dca41989"
      },
      "execution_count": 49,
      "outputs": [
        {
          "output_type": "stream",
          "name": "stdout",
          "text": [
            "   Opinion  Cantidad de Votantes\n",
            "0        5                    42\n",
            "1        4                    96\n",
            "2        3                   132\n",
            "3        2                   124\n",
            "4        1                    88\n",
            "5        0                    58\n"
          ]
        }
      ]
    },
    {
      "cell_type": "code",
      "source": [
        "#Cambiamos la columna \"Cantidad de Votantes\" \n",
        "df[\"Cantidad de Votantes\"] = [40, 99, 145, 133, 96, 40]"
      ],
      "metadata": {
        "id": "I4SeMRoikI2F"
      },
      "execution_count": 50,
      "outputs": []
    },
    {
      "cell_type": "code",
      "source": [
        "print(df)"
      ],
      "metadata": {
        "colab": {
          "base_uri": "https://localhost:8080/"
        },
        "id": "AmotUQjelFwr",
        "outputId": "df638bb0-dbf9-4c5e-e477-08181647a031"
      },
      "execution_count": 51,
      "outputs": [
        {
          "output_type": "stream",
          "name": "stdout",
          "text": [
            "   Opinion  Cantidad de Votantes\n",
            "0        5                    40\n",
            "1        4                    99\n",
            "2        3                   145\n",
            "3        2                   133\n",
            "4        1                    96\n",
            "5        0                    40\n"
          ]
        }
      ]
    },
    {
      "cell_type": "code",
      "source": [
        "df['Productos (Ni x Xi)'] = df['Opinion'] * df['Cantidad de Votantes']"
      ],
      "metadata": {
        "id": "yMzbJl1Soerl"
      },
      "execution_count": 52,
      "outputs": []
    },
    {
      "cell_type": "code",
      "source": [
        "print(df)"
      ],
      "metadata": {
        "colab": {
          "base_uri": "https://localhost:8080/"
        },
        "id": "DHzuXue7pDbG",
        "outputId": "5bdfe43f-13d2-4844-a62e-621bada2ec1d"
      },
      "execution_count": 53,
      "outputs": [
        {
          "output_type": "stream",
          "name": "stdout",
          "text": [
            "   Opinion  Cantidad de Votantes  Productos (Ni x Xi)\n",
            "0        5                    40                  200\n",
            "1        4                    99                  396\n",
            "2        3                   145                  435\n",
            "3        2                   133                  266\n",
            "4        1                    96                   96\n",
            "5        0                    40                    0\n"
          ]
        }
      ]
    },
    {
      "cell_type": "code",
      "source": [
        "x=df[\"Productos (Ni x Xi)\"].sum()\n",
        "observaciones=df[\"Cantidad de Votantes\"].sum()\n",
        "media=x/observaciones\n",
        "print(media)"
      ],
      "metadata": {
        "colab": {
          "base_uri": "https://localhost:8080/"
        },
        "id": "WYKYJlRKriQr",
        "outputId": "7a3bc1dc-6098-4bdc-92b1-de02d2902d6c"
      },
      "execution_count": 67,
      "outputs": [
        {
          "output_type": "stream",
          "name": "stdout",
          "text": [
            "2.518987341772152\n"
          ]
        }
      ]
    },
    {
      "cell_type": "code",
      "source": [
        "df[\"Ni*(Xi-media)^2\"] = df[\"Cantidad de Votantes\"] * ((df[\"Opinion\"] - media)*(df[\"Opinion\"] - media))"
      ],
      "metadata": {
        "id": "GquvyRTwq3wU"
      },
      "execution_count": 65,
      "outputs": []
    },
    {
      "cell_type": "code",
      "source": [
        "print(df)"
      ],
      "metadata": {
        "colab": {
          "base_uri": "https://localhost:8080/"
        },
        "id": "iuwTi562r0Mq",
        "outputId": "9285d742-e109-492b-945d-84a74d5656c5"
      },
      "execution_count": 66,
      "outputs": [
        {
          "output_type": "stream",
          "name": "stdout",
          "text": [
            "   Opinion  Cantidad de Votantes  Productos (Ni x Xi)  Ni*(Xi-media)^2\n",
            "0        5                    40                  200       246.216952\n",
            "1        4                    99                  396       217.146451\n",
            "2        3                   145                  435        33.549111\n",
            "3        2                   133                  266        35.823266\n",
            "4        1                    96                   96       221.502964\n",
            "5        0                    40                    0       253.811889\n"
          ]
        }
      ]
    },
    {
      "cell_type": "code",
      "source": [
        "varianza=df[\"Ni*(Xi-media)^2\"].sum()/observaciones\n",
        "print(varianza)\n",
        "desviacion_tipica=math.sqrt(varianza)\n",
        "print(desviacion_tipica)"
      ],
      "metadata": {
        "colab": {
          "base_uri": "https://localhost:8080/"
        },
        "id": "_KYq7O8llJxv",
        "outputId": "e9560098-11fe-4553-b801-73eb33574fb5"
      },
      "execution_count": 70,
      "outputs": [
        {
          "output_type": "stream",
          "name": "stdout",
          "text": [
            "1.8228763705450137\n",
            "1.3501393893020874\n"
          ]
        }
      ]
    },
    {
      "cell_type": "code",
      "source": [
        "\n",
        "intervalo_68 = (max(floor(media - desviacion_tipica),0),min(ceil( media + desviacion_tipica),5))\n",
        "intervalo_95 = (max(floor(media - 2 * desviacion_tipica),0),min(ceil( media + 2 * desviacion_tipica),5))\n",
        "intervalo_997 = (max(floor(media - 3 * desviacion_tipica),0),min(ceil( media + 3 * desviacion_tipica),5))\n",
        "\n",
        "\n",
        "\n",
        "print(intervalo_68)\n",
        "print(intervalo_95)\n",
        "print(intervalo_997)\n"
      ],
      "metadata": {
        "colab": {
          "base_uri": "https://localhost:8080/"
        },
        "id": "sDy50pA2nGSM",
        "outputId": "6741a2dc-13c8-4d68-bd9e-810694b58731"
      },
      "execution_count": 88,
      "outputs": [
        {
          "output_type": "stream",
          "name": "stdout",
          "text": [
            "(1, 4)\n",
            "(0, 5)\n",
            "(0, 5)\n"
          ]
        }
      ]
    },
    {
      "cell_type": "code",
      "source": [
        "observaciones_intervalo_68 = df[(df['Opinion'] >= intervalo_68[0]) & (df['Opinion'] <= intervalo_68[1])]\n",
        "observaciones_intervalo_95 = df[(df['Opinion'] >= intervalo_95[0]) & (df['Opinion'] <= intervalo_95[1])]\n",
        "observaciones_intervalo_997 = df[(df['Opinion'] >= intervalo_997[0]) & (df['Opinion'] <= intervalo_997[1])]\n"
      ],
      "metadata": {
        "id": "5ap7y_AvvxRP"
      },
      "execution_count": 89,
      "outputs": []
    },
    {
      "cell_type": "code",
      "source": [
        "porcentaje_intervalo_68 = observaciones_intervalo_68['Cantidad de Votantes'].sum() / observaciones * 100\n",
        "porcentaje_intervalo_95 = observaciones_intervalo_95['Cantidad de Votantes'].sum() / observaciones * 100\n",
        "porcentaje_intervalo_997 = observaciones_intervalo_997['Cantidad de Votantes'].sum() / observaciones * 100\n",
        "print(porcentaje_intervalo_68)\n",
        "print(porcentaje_intervalo_95)\n",
        "print(porcentaje_intervalo_997)"
      ],
      "metadata": {
        "colab": {
          "base_uri": "https://localhost:8080/"
        },
        "id": "wGeSjIN_wC0S",
        "outputId": "0083eb3c-7c26-4311-9548-9c41795bd1d6"
      },
      "execution_count": 90,
      "outputs": [
        {
          "output_type": "stream",
          "name": "stdout",
          "text": [
            "85.53345388788426\n",
            "100.0\n",
            "100.0\n"
          ]
        }
      ]
    },
    {
      "cell_type": "markdown",
      "source": [
        "en el intervalo [1,4] se encuentran 85,533% de las observaciones"
      ],
      "metadata": {
        "id": "i3WWLlhiyuPC"
      }
    },
    {
      "cell_type": "markdown",
      "source": [
        "en el intervalo [0, 5] se encuentran el 100% de las observaciones"
      ],
      "metadata": {
        "id": "uzryrJSFzCJD"
      }
    },
    {
      "cell_type": "code",
      "source": [
        "opiniones = df['Opinion']\n",
        "votantes = df['Cantidad de Votantes']\n",
        "\n",
        "\n",
        "plt.bar(opiniones, votantes)\n",
        "\n",
        "\n",
        "\n",
        "plt.title(\"Histograma de Opiniones de Películas\")\n",
        "plt.xlabel(\"Opinión\")\n",
        "plt.ylabel(\"Cantidad de Votantes\")\n",
        "\n",
        "\n",
        "plt.show()\n",
        "\n"
      ],
      "metadata": {
        "colab": {
          "base_uri": "https://localhost:8080/",
          "height": 473
        },
        "id": "uhoO-p_Z1AQ3",
        "outputId": "46ed9637-4cd6-4e79-9b3d-56a8ed50269f"
      },
      "execution_count": 101,
      "outputs": [
        {
          "output_type": "display_data",
          "data": {
            "text/plain": [
              "<Figure size 640x480 with 1 Axes>"
            ],
            "image/png": "[encoded data removed]"
          },
          "metadata": {}
        }
      ]
    }
  ]
}